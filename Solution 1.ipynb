{
 "cells": [
  {
   "cell_type": "markdown",
   "id": "4715e131",
   "metadata": {},
   "source": [
    "### Q1. What is Flask Framework? What are the advantages of Flask Framework?"
   ]
  },
  {
   "cell_type": "markdown",
   "id": "214b0218",
   "metadata": {},
   "source": [
    "* Flask is python based web framework.\n",
    "* It's python module that lets you develop web applications easily.\n",
    "* It has small and easy to extend core.\n",
    "* it is micro web framework written in python which does not have feature like ORM."
   ]
  },
  {
   "cell_type": "markdown",
   "id": "095fb232",
   "metadata": {},
   "source": [
    "1. Scalable\n",
    "* Size is everything, and Flask’s status as a microframework means that you can use it to grow a tech project such as a web app incredibly q\n",
    "2. Flexible\n",
    "* This is core feature of flask, and one of biggest advantage.\n",
    "3. Library support\n",
    "* Supporting many libraries can be a major disadvantage of Flask.\n",
    "4. Community support\n",
    "* The community around Django is larger than Flask’s, which has a direct influence on problem solving, bug fixing, and maintenance costs."
   ]
  },
  {
   "cell_type": "code",
   "execution_count": null,
   "id": "a90cf1c8",
   "metadata": {},
   "outputs": [],
   "source": []
  }
 ],
 "metadata": {
  "kernelspec": {
   "display_name": "Python 3 (ipykernel)",
   "language": "python",
   "name": "python3"
  },
  "language_info": {
   "codemirror_mode": {
    "name": "ipython",
    "version": 3
   },
   "file_extension": ".py",
   "mimetype": "text/x-python",
   "name": "python",
   "nbconvert_exporter": "python",
   "pygments_lexer": "ipython3",
   "version": "3.11.1"
  }
 },
 "nbformat": 4,
 "nbformat_minor": 5
}
